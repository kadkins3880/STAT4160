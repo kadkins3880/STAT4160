{
  "cells": [
    {
      "cell_type": "markdown",
      "metadata": {},
      "source": [
        "# Preface {.unnumbered}\n",
        "\n",
        "This is a Quarto book.\n",
        "\n",
        "To learn more about Quarto books visit <https://quarto.org/docs/books>.\n"
      ],
      "id": "4b2a40a3"
    },
    {
      "cell_type": "code",
      "metadata": {},
      "source": [
        "1+1"
      ],
      "id": "724106b9",
      "execution_count": null,
      "outputs": []
    },
    {
      "cell_type": "markdown",
      "metadata": {},
      "source": [
        "``` python\n",
        "from google.colab import drive\n",
        "drive.mount('/content/drive', force_remount=True)\n",
        "\n",
        "REPO_OWNER = \"YOUR_GITHUB_USERNAME_OR_ORG\"  # <- change\n",
        "REPO_NAME  = \"unified-stocks-teamX\"         # <- change\n",
        "BASE_DIR   = \"/content/drive/MyDrive/dspt25\"\n",
        "REPO_DIR   = f\"{BASE_DIR}/{REPO_NAME}\"\n",
        "REPO_URL   = f\"https://github.com/{REPO_OWNER}/{REPO_NAME}.git\"\n",
        "\n",
        "import pathlib, os, subprocess\n",
        "pathlib.Path(BASE_DIR).mkdir(parents=True, exist_ok=True)\n",
        "\n",
        "if not pathlib.Path(REPO_DIR).exists():\n",
        "    !git clone {REPO_URL} {REPO_DIR}\n",
        "else:\n",
        "    %cd {REPO_DIR}\n",
        "    !git pull --ff-only\n",
        "%cd {REPO_DIR}\n",
        "```"
      ],
      "id": "f127b068"
    }
  ],
  "metadata": {
    "kernelspec": {
      "display_name": "Python 3",
      "language": "python",
      "name": "python3"
    }
  },
  "nbformat": 4,
  "nbformat_minor": 5
}