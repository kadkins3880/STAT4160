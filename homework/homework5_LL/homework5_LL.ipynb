{"cells":[{"cell_type":"markdown","metadata":{},"source":["# Homework 5 — Levi Lowery"]}],"metadata":{},"nbformat":4,"nbformat_minor":5}
