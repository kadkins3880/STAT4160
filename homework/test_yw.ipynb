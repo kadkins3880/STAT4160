{
 "cells": [
  {
   "cell_type": "code",
   "execution_count": null,
   "id": "d09500a7",
   "metadata": {
    "vscode": {
     "languageId": "plaintext"
    }
   },
   "outputs": [],
   "source": [
    "## testing\n",
    "# blah blah blah"
   ]
  }
 ],
 "metadata": {
  "language_info": {
   "name": "python"
  }
 },
 "nbformat": 4,
 "nbformat_minor": 5
}
