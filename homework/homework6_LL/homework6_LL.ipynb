{"cells":[{"cell_type":"markdown","metadata":{},"source":["# Homework 6 — Levi Lowery"]}],"metadata":{},"nbformat":4,"nbformat_minor":5}
