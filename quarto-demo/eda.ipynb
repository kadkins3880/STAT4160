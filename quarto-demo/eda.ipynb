{
  "cells": [
    {
      "cell_type": "raw",
      "metadata": {},
      "source": [
        "---\n",
        "title: Stock EDA\n",
        "format:\n",
        "  html:\n",
        "    toc: true\n",
        "    number-sections: false\n",
        "execute:\n",
        "  echo: true\n",
        "  warning: false\n",
        "  cache: false\n",
        "params:\n",
        "  symbol: AAPL\n",
        "  start_date: '2018-01-01'\n",
        "  end_date: ''\n",
        "  rolling: 20\n",
        "---"
      ],
      "id": "4183cd4c"
    },
    {
      "cell_type": "markdown",
      "metadata": {},
      "source": [
        "> *Educational use only — not trading advice.* Data pulled via **yfinance** [@yfinance].\n",
        "\n",
        "This page is **parameterized**; see the **Parameters** section for usage.\n",
        "\n",
        "## Setup parameters if using Python"
      ],
      "id": "043fcbe9"
    },
    {
      "cell_type": "code",
      "metadata": {
        "tags": [
          "parameters"
        ]
      },
      "source": [
        "# Default values (overridden by -P at render time)\n",
        "SYMBOL = \"AAPL\"\n",
        "START  = \"2018-01-01\"\n",
        "END    = \"\"\n",
        "ROLL   =  20"
      ],
      "id": "1a5a898d",
      "execution_count": null,
      "outputs": []
    },
    {
      "cell_type": "markdown",
      "metadata": {},
      "source": [
        "## Setup\n"
      ],
      "id": "46a0f658"
    },
    {
      "cell_type": "code",
      "metadata": {
        "message": false
      },
      "source": [
        "#| echo: true\n",
        "import pandas as pd\n",
        "import numpy as np\n",
        "import matplotlib.pyplot as plt\n",
        "import yfinance as yf\n",
        "from pathlib import Path\n",
        "\n",
        "# SYMBOL = params.get(\"symbol\", \"AAPL\")\n",
        "# START  = params.get(\"start_date\", \"2018-01-01\")\n",
        "# END    = params.get(\"end_date\", \"\")\n",
        "# ROLL   = int(params.get(\"rolling\", 20))\n",
        "if not END:\n",
        "  END = pd.Timestamp.today().strftime(\"%Y-%m-%d\")"
      ],
      "id": "9193d9e4",
      "execution_count": null,
      "outputs": []
    },
    {
      "cell_type": "markdown",
      "metadata": {},
      "source": [
        "## Download and tidy\n"
      ],
      "id": "8329e89f"
    },
    {
      "cell_type": "code",
      "metadata": {},
      "source": [
        "#| echo: true\n",
        "try:\n",
        "  data = yf.download(SYMBOL, start=START, end=END, auto_adjust=True, progress=False)\n",
        "except Exception as e:\n",
        "  # Synthetic fallback\n",
        "  idx = pd.bdate_range(START, END)\n",
        "  rng = np.random.default_rng(42)\n",
        "  ret = rng.normal(0, 0.01, len(idx))\n",
        "  price = 100 * np.exp(np.cumsum(ret))\n",
        "  vol = rng.integers(1e5, 5e6, len(idx))\n",
        "  data = pd.DataFrame({\"Close\": price, \"Volume\": vol}, index=idx)\n",
        "\n",
        "df = (data.rename(columns=str.lower)[[\"close\",\"volume\"]]\n",
        "        .dropna()\n",
        "        .assign(log_return=lambda d: np.log(d[\"close\"]).diff()))\n",
        "df[\"roll_mean\"] = df[\"log_return\"].rolling(ROLL, min_periods=ROLL//2).mean()\n",
        "df[\"roll_vol\"]  = df[\"log_return\"].rolling(ROLL, min_periods=ROLL//2).std()\n",
        "df = df.dropna()"
      ],
      "id": "8cb5bb3f",
      "execution_count": null,
      "outputs": []
    },
    {
      "cell_type": "markdown",
      "metadata": {},
      "source": [
        "## Price over time\n"
      ],
      "id": "59627d7e"
    },
    {
      "cell_type": "code",
      "metadata": {},
      "source": [
        "#| label: fig-price\n",
        "#| fig-cap: '{SYMBOL} — Adjusted Close'\n",
        "#| fig-alt: Line chart showing adjusted close price of the selected stock over time.\n",
        "#| echo: false\n",
        "fig, ax = plt.subplots(figsize=(8,3))\n",
        "ax.plot(df.index, df[\"close\"])\n",
        "ax.set_xlabel(\"Date\"); ax.set_ylabel(\"Price\")\n",
        "fig.tight_layout()"
      ],
      "id": "fig-price",
      "execution_count": null,
      "outputs": []
    },
    {
      "cell_type": "markdown",
      "metadata": {},
      "source": [
        "As shown in **Figure @fig-price**, prices vary over time with changing volatility.\n",
        "\n",
        "## Return distribution\n"
      ],
      "id": "16490dd3"
    },
    {
      "cell_type": "code",
      "metadata": {},
      "source": [
        "#| label: fig-hist\n",
        "#| fig-cap: '{SYMBOL} — Daily log return histogram'\n",
        "#| fig-alt: Histogram of daily log returns.\n",
        "#| echo: false\n",
        "fig, ax = plt.subplots(figsize=(6,3))\n",
        "ax.hist(df[\"log_return\"], bins=50, alpha=0.85)\n",
        "ax.set_xlabel(\"log return\"); ax.set_ylabel(\"count\")\n",
        "fig.tight_layout()"
      ],
      "id": "fig-hist",
      "execution_count": null,
      "outputs": []
    },
    {
      "cell_type": "markdown",
      "metadata": {},
      "source": [
        "**Figure @fig-hist** shows the return distribution; many assets exhibit heavy tails \\[@hyndman-fpp3, pp. 20–21].\n",
        "\n",
        "## Rolling statistics (window = {params.rolling})\n"
      ],
      "id": "ba1a6d93"
    },
    {
      "cell_type": "code",
      "metadata": {},
      "source": [
        "#| label: fig-rolling\n",
        "#| fig-cap: '{SYMBOL} — Rolling mean and volatility'\n",
        "#| fig-alt: Two line plots of rolling mean and rolling standard deviation of returns.\n",
        "#| echo: false\n",
        "fig, ax = plt.subplots(figsize=(8,3))\n",
        "ax.plot(df.index, df[\"roll_mean\"], label=\"rolling mean\")\n",
        "ax.plot(df.index, df[\"roll_vol\"],  label=\"rolling std\")\n",
        "ax.set_xlabel(\"Date\"); ax.set_ylabel(\"value\")\n",
        "ax.legend()\n",
        "fig.tight_layout()"
      ],
      "id": "fig-rolling",
      "execution_count": null,
      "outputs": []
    },
    {
      "cell_type": "markdown",
      "metadata": {},
      "source": [
        "## Summary table\n"
      ],
      "id": "cc108d1a"
    },
    {
      "cell_type": "code",
      "metadata": {},
      "source": [
        "#| label: tbl-summary\n",
        "#| tbl-cap: 'Summary statistics for {SYMBOL}.'\n",
        "#| echo: false\n",
        "summary = pd.DataFrame({\n",
        "    \"n_days\": [len(df)],\n",
        "    \"start\": [df.index.min().date()],\n",
        "    \"end\":   [df.index.max().date()],\n",
        "    \"mean_daily_ret\": [df[\"log_return\"].mean()],\n",
        "    \"std_daily_ret\":  [df[\"log_return\"].std()],\n",
        "    \"ann_vol_approx\": [df[\"log_return\"].std()*np.sqrt(252)]\n",
        "})\n",
        "summary"
      ],
      "id": "tbl-summary",
      "execution_count": null,
      "outputs": []
    },
    {
      "cell_type": "markdown",
      "metadata": {},
      "source": [
        "See **Table @tbl-summary** for overall statistics.\n",
        "\n",
        "## Data dictionary\n"
      ],
      "id": "b02cbf72"
    },
    {
      "cell_type": "code",
      "metadata": {},
      "source": [
        "#| label: tbl-dict\n",
        "#| tbl-cap: Data dictionary for computed columns.\n",
        "#| echo: false\n",
        "desc = {\n",
        "  \"close\": \"Adjusted closing price.\",\n",
        "  \"volume\": \"Trading volume.\",\n",
        "  \"log_return\": \"log(Close_t) − log(Close_{t−1}).\",\n",
        "  \"roll_mean\": f\"Rolling mean of log returns (window={ROLL}).\",\n",
        "  \"roll_vol\": f\"Rolling std of log returns (window={ROLL}).\"\n",
        "}\n",
        "# Build a mapping: first-level name -> combined dtype(s)\n",
        "dtype_by_price = (\n",
        "    df.dtypes                          # Series indexed by (Price, Ticker)\n",
        "      .groupby(level=0)                # group by first level \"Price\"\n",
        "      .apply(lambda s: \" / \".join(sorted({str(dt) for dt in s})))\n",
        ")\n",
        "\n",
        "dd = pd.DataFrame({\n",
        "    \"column\": list(desc.keys()),\n",
        "    \"dtype\": [dtype_by_price.get(c, \"MISSING\") for c in desc.keys()],\n",
        "    \"description\": list(desc.values())\n",
        "})\n",
        "dd\n",
        "# dd = pd.DataFrame({ \n",
        "#   \"column\": list(desc.keys()), \n",
        "#   \"dtype\": [str(df[c].dtype) for c in desc.keys()], \n",
        "#   \"description\": list(desc.values()) }) \n",
        "# dd"
      ],
      "id": "tbl-dict",
      "execution_count": null,
      "outputs": []
    },
    {
      "cell_type": "markdown",
      "metadata": {},
      "source": [
        "## Parameters\n",
        "\n",
        "This page accepts parameters: `symbol`, `start_date`, `end_date`, and `rolling`. You can re‑render with:\n",
        "\n",
        "```\n",
        "quarto render reports/eda.qmd \\\\\n",
        "  -P symbol:MSFT -P start_date:2019-01-01 -P end_date:2025-08-01 -P rolling:30\n",
        "```\n",
        "\n",
        "## References\n"
      ],
      "id": "f3d0d978"
    }
  ],
  "metadata": {
    "kernelspec": {
      "name": "python3",
      "language": "python",
      "display_name": "Python 3 (ipykernel)"
    }
  },
  "nbformat": 4,
  "nbformat_minor": 5
}