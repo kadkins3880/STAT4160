{
  "cells": [
    {
      "cell_type": "markdown",
      "metadata": {},
      "source": [
        "---\n",
        "title: \"Stock EDA\"\n",
        "format:\n",
        "  html:\n",
        "    toc: true\n",
        "    number-sections: false\n",
        "\n",
        "execute:\n",
        "  echo: false\n",
        "  warning: false\n",
        "  cache: false     # keep off while testing params\n",
        "\n",
        "jupyter: python3\n",
        "params:\n",
        "  symbol: \"AAPL\"\n",
        "  start_date: \"2018-01-01\"\n",
        "  end_date: \"\"\n",
        "  rolling: 20\n",
        "---\n",
        "\n",
        "\n",
        "::: callout-note\n",
        "This report is parameterized. To change inputs without editing code, pass\n",
        "`-P symbol:MSFT -P start_date:2019-01-01 -P end_date:2025-08-01 -P rolling:30` to `quarto render`.\n",
        ":::\n",
        "\n",
        "## Setup if using Python"
      ],
      "id": "a31bbcba"
    },
    {
      "cell_type": "code",
      "metadata": {
        "tags": [
          "parameters"
        ]
      },
      "source": [
        "# Default values (overridden by -P at render time)\n",
        "SYMBOL = \"AAPL\"\n",
        "START  = \"2018-01-01\"\n",
        "END    = \"\"\n",
        "ROLL   =  20"
      ],
      "id": "42b68e65",
      "execution_count": null,
      "outputs": []
    },
    {
      "cell_type": "code",
      "metadata": {},
      "source": [
        "import os, pathlib\n",
        "pathlib.Path(\"figs\").mkdir(parents=True, exist_ok=True)"
      ],
      "id": "e4e41d42",
      "execution_count": null,
      "outputs": []
    },
    {
      "cell_type": "code",
      "metadata": {},
      "source": [
        "import pandas as pd\n",
        "import numpy as np\n",
        "import matplotlib.pyplot as plt\n",
        "import yfinance as yf\n",
        "from pathlib import Path\n",
        "from datetime import datetime\n",
        "\n",
        "# Read parameters if using R\n",
        "# SYMBOL = params.get(\"symbol\", \"AAPL\")\n",
        "# START  = params.get(\"start_date\", \"2018-01-01\")\n",
        "# END    = params.get(\"end_date\", \"\")\n",
        "# ROLL   = int(params.get(\"rolling\", 20))\n",
        "\n",
        "if not END:\n",
        "    END = pd.Timestamp.today().strftime(\"%Y-%m-%d\")\n",
        "\n",
        "SYMBOL, START, END, ROLL"
      ],
      "id": "f2e54896",
      "execution_count": null,
      "outputs": []
    },
    {
      "cell_type": "markdown",
      "metadata": {},
      "source": [
        "## Download and prepare data"
      ],
      "id": "1d78d398"
    },
    {
      "cell_type": "code",
      "metadata": {},
      "source": [
        "# Fetch adjusted OHLCV\n",
        "try:\n",
        "    data = yf.download(SYMBOL, start=START, end=END, auto_adjust=True, progress=False)\n",
        "except Exception as e:\n",
        "    print(\"yfinance failed, falling back to synthetic series:\", e)\n",
        "    idx = pd.bdate_range(START, END)\n",
        "    rng = np.random.default_rng(42)\n",
        "    ret = rng.normal(0, 0.01, len(idx))\n",
        "    price = 100 * np.exp(np.cumsum(ret))\n",
        "    vol = rng.integers(1e5, 5e6, len(idx))\n",
        "    data = pd.DataFrame({\"Close\": price, \"Volume\": vol}, index=idx)\n",
        "\n",
        "# Tidy & features\n",
        "df = data.rename(columns=str.lower).copy()\n",
        "df = df[[\"close\",\"volume\"]].dropna()\n",
        "df[\"log_return\"] = np.log(df[\"close\"]).diff()\n",
        "df[\"roll_mean\"]  = df[\"log_return\"].rolling(ROLL, min_periods=ROLL//2).mean()\n",
        "df[\"roll_vol\"]   = df[\"log_return\"].rolling(ROLL, min_periods=ROLL//2).std()\n",
        "df = df.dropna()\n",
        "df.head()"
      ],
      "id": "bfcf61d9",
      "execution_count": null,
      "outputs": []
    },
    {
      "cell_type": "markdown",
      "metadata": {},
      "source": [
        "## Price over time"
      ],
      "id": "55506db9"
    },
    {
      "cell_type": "code",
      "metadata": {},
      "source": [
        "fig, ax = plt.subplots(figsize=(8,3))\n",
        "ax.plot(df.index, df[\"close\"])\n",
        "ax.set_title(f\"{SYMBOL} — Adjusted Close\")\n",
        "ax.set_xlabel(\"Date\"); ax.set_ylabel(\"Price\")\n",
        "fig.tight_layout()\n",
        "# figpath = Path(\"reports/figs\")/f\"{SYMBOL}_price.png\"\n",
        "figpath = Path(\"figs\")/f\"{SYMBOL}_price.png\" #same changes for the rest of the figures\n",
        "fig.savefig(figpath, dpi=144)\n",
        "figpath"
      ],
      "id": "0ea9b84f",
      "execution_count": null,
      "outputs": []
    },
    {
      "cell_type": "markdown",
      "metadata": {},
      "source": [
        "## Daily log returns — histogram"
      ],
      "id": "f06fe974"
    },
    {
      "cell_type": "code",
      "metadata": {},
      "source": [
        "fig, ax = plt.subplots(figsize=(6,3))\n",
        "ax.hist(df[\"log_return\"], bins=50, alpha=0.8)\n",
        "ax.set_title(f\"{SYMBOL} — Daily Log Return Distribution\")\n",
        "ax.set_xlabel(\"log return\"); ax.set_ylabel(\"count\")\n",
        "fig.tight_layout()\n",
        "figpath = Path(\"figs\")/f\"{SYMBOL}_hist.png\"\n",
        "fig.savefig(figpath, dpi=144)\n",
        "figpath"
      ],
      "id": "62d45319",
      "execution_count": null,
      "outputs": []
    },
    {
      "cell_type": "markdown",
      "metadata": {},
      "source": [
        "## Rolling mean & volatility (window = {params.rolling})"
      ],
      "id": "e5bf1292"
    },
    {
      "cell_type": "code",
      "metadata": {},
      "source": [
        "fig, ax = plt.subplots(figsize=(8,3))\n",
        "ax.plot(df.index, df[\"roll_mean\"], label=\"rolling mean\")\n",
        "ax.plot(df.index, df[\"roll_vol\"],  label=\"rolling std\")\n",
        "ax.set_title(f\"{SYMBOL} — Rolling Return Stats (window={ROLL})\")\n",
        "ax.set_xlabel(\"Date\"); ax.set_ylabel(\"value\")\n",
        "ax.legend()\n",
        "fig.tight_layout()\n",
        "figpath = Path(\"figs\")/f\"{SYMBOL}_rolling.png\"\n",
        "fig.savefig(figpath, dpi=144)\n",
        "figpath"
      ],
      "id": "7ed0f519",
      "execution_count": null,
      "outputs": []
    },
    {
      "cell_type": "markdown",
      "metadata": {},
      "source": [
        "## Summary table"
      ],
      "id": "a6f8eb9c"
    },
    {
      "cell_type": "code",
      "metadata": {},
      "source": [
        "summary = pd.DataFrame({\n",
        "    \"n_days\": [len(df)],\n",
        "    \"start\": [df.index.min().date()],\n",
        "    \"end\":   [df.index.max().date()],\n",
        "    \"mean_daily_ret\": [df[\"log_return\"].mean()],\n",
        "    \"std_daily_ret\":  [df[\"log_return\"].std()],\n",
        "    \"ann_vol_approx\": [df[\"log_return\"].std()*np.sqrt(252)]\n",
        "})\n",
        "summary"
      ],
      "id": "3ae5748a",
      "execution_count": null,
      "outputs": []
    },
    {
      "cell_type": "markdown",
      "metadata": {},
      "source": [
        " **Note**: Educational use only. This is not trading advice."
      ],
      "id": "a7ac3fce"
    }
  ],
  "metadata": {
    "kernelspec": {
      "name": "python3",
      "language": "python",
      "display_name": "Python 3 (ipykernel)",
      "path": "C:\\Users\\ywang2\\AppData\\Local\\anaconda3\\envs\\stat4160\\share\\jupyter\\kernels\\python3"
    }
  },
  "nbformat": 4,
  "nbformat_minor": 5
}