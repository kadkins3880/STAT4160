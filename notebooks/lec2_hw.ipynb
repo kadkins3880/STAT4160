{
  "nbformat": 4,
  "nbformat_minor": 0,
  "metadata": {
    "colab": {
      "provenance": [],
      "authorship_tag": "ABX9TyPGIDbW40LQYGhrmklpxx+P",
      "include_colab_link": true
    },
    "kernelspec": {
      "name": "python3",
      "display_name": "Python 3"
    },
    "language_info": {
      "name": "python"
    }
  },
  "cells": [
    {
      "cell_type": "markdown",
      "metadata": {
        "id": "view-in-github",
        "colab_type": "text"
      },
      "source": [
        "<a href=\"https://colab.research.google.com/github/ywanglab/STAT4160/blob/main/notebooks/lec2_hw.ipynb\" target=\"_parent\"><img src=\"https://colab.research.google.com/assets/colab-badge.svg\" alt=\"Open In Colab\"/></a>"
      ]
    },
    {
      "cell_type": "code",
      "source": [
        "# Colab cell\n",
        "from google.colab import drive\n",
        "drive.mount('/content/drive', force_remount=True)"
      ],
      "metadata": {
        "colab": {
          "base_uri": "https://localhost:8080/"
        },
        "id": "I4_j62ifBNHb",
        "outputId": "f02dbbe5-fda2-41db-cd58-c80220e9d66f"
      },
      "execution_count": 1,
      "outputs": [
        {
          "output_type": "stream",
          "name": "stdout",
          "text": [
            "Mounted at /content/drive\n"
          ]
        }
      ]
    },
    {
      "cell_type": "code",
      "execution_count": 2,
      "metadata": {
        "id": "KQB-iMN3BDQ4"
      },
      "outputs": [],
      "source": [
        "# Adjust these two for YOUR repo\n",
        "REPO_OWNER = \"ywanglab\"\n",
        "REPO_NAME  = \"STAT4160\"   # e.g., unified-stocks-team1\n",
        "\n",
        "BASE_DIR   = \"/content/drive/MyDrive/dspt25\"\n",
        "CLONE_DIR  = f\"{BASE_DIR}/{REPO_NAME}\"\n",
        "REPO_URL   = f\"https://github.com/{REPO_OWNER}/{REPO_NAME}.git\"\n",
        "\n",
        "import os, pathlib\n",
        "pathlib.Path(BASE_DIR).mkdir(parents=True, exist_ok=True)\n"
      ]
    },
    {
      "cell_type": "code",
      "source": [
        "import os, subprocess, shutil, pathlib\n",
        "\n",
        "if not pathlib.Path(CLONE_DIR).exists():\n",
        "    !git clone {REPO_URL} {CLONE_DIR}\n",
        "else:\n",
        "    # If the folder exists, just ensure it's a git repo and pull latest\n",
        "    os.chdir(CLONE_DIR)\n",
        "    !git status\n",
        "    !git pull --ff-only\n",
        "os.chdir(CLONE_DIR)\n",
        "print(\"Working dir:\", os.getcwd())"
      ],
      "metadata": {
        "id": "n6jMrUCACz0a"
      },
      "execution_count": null,
      "outputs": []
    },
    {
      "cell_type": "code",
      "source": [
        "# Run in your repo root\n",
        "import os, pathlib, textwrap\n",
        "pathlib.Path(\".github\").mkdir(exist_ok=True)\n",
        "tpl = textwrap.dedent(\"\"\"\\\n",
        "    ## Summary\n",
        "    What does this PR do and why?\n",
        "\n",
        "    ## Changes\n",
        "    -\n",
        "\n",
        "    ## How to test\n",
        "    - From a fresh clone: steps to run\n",
        "\n",
        "    ## Checklist\n",
        "    - [ ] Runs from a fresh clone (README steps)\n",
        "    - [ ] No secrets committed; `.env` only (and `.env.example` updated if needed)\n",
        "    - [ ] Large artifacts tracked by LFS (`git lfs ls-files` shows expected files)\n",
        "    - [ ] Clear, small diff; comments where useful\n",
        "\"\"\")\n",
        "open(\".github/pull_request_template.md\",\"w\").write(tpl)\n",
        "print(\"Wrote .github/pull_request_template.md\")"
      ],
      "metadata": {
        "colab": {
          "base_uri": "https://localhost:8080/"
        },
        "id": "-GrXIDZs09gm",
        "outputId": "04d2f3e3-05dc-49ca-febc-278efd9c3855"
      },
      "execution_count": null,
      "outputs": [
        {
          "output_type": "stream",
          "name": "stdout",
          "text": [
            "Wrote .github/pull_request_template.md\n"
          ]
        }
      ]
    },
    {
      "cell_type": "code",
      "source": [
        "owners = \"\"\"\\\n",
        "# Replace with your GitHub handles\n",
        "* @teammate1 @teammate2 @ywanglab\n",
        "\"\"\"\n",
        "open(\".github/CODEOWNERS\",\"w\").write(owners)\n",
        "print(\"Wrote .github/CODEOWNERS (edit handles!)\")"
      ],
      "metadata": {
        "colab": {
          "base_uri": "https://localhost:8080/"
        },
        "id": "YUzz36P-29H3",
        "outputId": "e489bbb2-4206-48aa-9faf-c4cc54f6c3b6"
      },
      "execution_count": null,
      "outputs": [
        {
          "output_type": "stream",
          "name": "stdout",
          "text": [
            "Wrote .github/CODEOWNERS (edit handles!)\n"
          ]
        }
      ]
    },
    {
      "cell_type": "code",
      "source": [
        "# tools/guard_large_files.py\n",
        "import os, subprocess, sys\n",
        "\n",
        "LIMIT_MB = 10\n",
        "ROOT = os.getcwd()\n",
        "\n",
        "def lfs_tracked_paths(): # find files tracked by lfs\n",
        "    try:\n",
        "        out = subprocess.check_output([\"git\", \"lfs\", \"ls-files\"], text=True)\n",
        "        tracked = set()\n",
        "        for line in out.strip().splitlines():\n",
        "            # line format: \"<oid> <path>\" ex: line = \"3b2d8c7d53   data/processed/file.parquet\"\n",
        "            p = line.split(None, 1)[-1].strip() #split on whitespace at most once.\n",
        "            tracked.add(os.path.normpath(p)) # normpath(p): ensure consistent slashes (\\ vs /)\n",
        "        return tracked\n",
        "    except Exception:\n",
        "        return set()\n",
        "\n",
        "def humanize(bytes_):\n",
        "    return f\"{bytes_/(1024*1024):.2f} MB\"\n",
        "\n",
        "lfs_set = lfs_tracked_paths()\n",
        "bad = []\n",
        "for dirpath, dirnames, filenames in os.walk(ROOT):\n",
        "  #os.walk() is a generator that recursively traverses a directory tree.\n",
        "  # At each step it yields a tuple:(dirpath, subdirnames, filenames)\n",
        "\n",
        "    # skip .git directory\n",
        "    if \".git\" in dirpath.split(os.sep):#using os specific separator os.sep (/ for linus, \\ for windows)\n",
        "        continue\n",
        "    for fn in filenames:\n",
        "        path = os.path.normpath(os.path.join(dirpath, fn))\n",
        "        try:\n",
        "            size = os.path.getsize(path)\n",
        "        except FileNotFoundError:\n",
        "            continue\n",
        "        if size >= LIMIT_MB * 1024 * 1024:\n",
        "            rel = os.path.relpath(path, ROOT)\n",
        "            if rel not in lfs_set:\n",
        "                bad.append((rel, size))\n",
        "\n",
        "if bad:\n",
        "    print(\"ERROR: Large non-LFS files found:\")\n",
        "    for rel, size in bad:\n",
        "        print(f\" - {rel} ({humanize(size)})\")\n",
        "    sys.exit(1)\n",
        "else:\n",
        "    print(\"OK: No large non-LFS files detected.\")"
      ],
      "metadata": {
        "colab": {
          "base_uri": "https://localhost:8080/"
        },
        "id": "fJfBPdfmZsJz",
        "outputId": "ff15b333-4700-427b-aeab-89f1f9d8efea"
      },
      "execution_count": null,
      "outputs": [
        {
          "output_type": "stream",
          "name": "stdout",
          "text": [
            "OK: No large non-LFS files detected.\n"
          ]
        }
      ]
    },
    {
      "cell_type": "code",
      "source": [
        "# Define the path to the tools directory\n",
        "tools_dir = Path(\"tools\")\n",
        "\n",
        "# Create it if it doesn't exist (including any parents)\n",
        "tools_dir.mkdir(parents=True, exist_ok=True)\n",
        "\n",
        "print(f\"Directory '{tools_dir}' is ready.\")"
      ],
      "metadata": {
        "colab": {
          "base_uri": "https://localhost:8080/"
        },
        "id": "Obw0V5cShAId",
        "outputId": "80ee9526-818a-4c41-a920-4749bdc14ef1"
      },
      "execution_count": null,
      "outputs": [
        {
          "output_type": "stream",
          "name": "stdout",
          "text": [
            "Directory 'tools' is ready.\n"
          ]
        }
      ]
    },
    {
      "cell_type": "code",
      "source": [
        "from pathlib import Path\n",
        "\n",
        "tools_dir = Path(\"tools\")\n",
        "tools_dir.mkdir(parents=True, exist_ok=True)\n",
        "\n",
        "script = tools_dir / \"guard_large_files.py\"\n",
        "\n",
        "code = '''#!/usr/bin/env python3\n",
        "import os\n",
        "import sys\n",
        "import subprocess\n",
        "\n",
        "LIMIT_MB = 10  # size threshold for LFS in megabytes\n",
        "ROOT = os.path.abspath(os.path.dirname(__file__) + \"/..\")\n",
        "\n",
        "def humanize(nbytes):\n",
        "    # format size in human-friendly units\n",
        "    for unit in ['B','KB','MB','GB','TB']:\n",
        "        if nbytes < 1024:\n",
        "            return f\"{nbytes:.1f}{unit}\"\n",
        "        nbytes /= 1024\n",
        "    return f\"{nbytes:.1f}PB\"\n",
        "\n",
        "def lfs_tracked_paths():\n",
        "    try:\n",
        "        out = subprocess.check_output([\"git\", \"lfs\", \"ls-files\"], text=True)\n",
        "        tracked = set()\n",
        "        for line in out.strip().splitlines():\n",
        "            # line format: \"<oid> <path>\"\n",
        "            p = line.split(None, 1)[-1].strip()\n",
        "            tracked.add(os.path.normpath(p))\n",
        "        return tracked\n",
        "    except Exception:\n",
        "        return set()\n",
        "\n",
        "def main():\n",
        "    lfs_set = lfs_tracked_paths()\n",
        "    bad = []\n",
        "    for dirpath, dirnames, filenames in os.walk(ROOT):\n",
        "        # skip .git and other hidden dirs\n",
        "        if \".git\" in dirpath.split(os.sep):\n",
        "            continue\n",
        "        for fn in filenames:\n",
        "            path = os.path.normpath(os.path.join(dirpath, fn))\n",
        "            try:\n",
        "                size = os.path.getsize(path)\n",
        "            except FileNotFoundError:\n",
        "                continue\n",
        "            if size >= LIMIT_MB * 1024 * 1024:\n",
        "                rel = os.path.relpath(path, ROOT)\n",
        "                if rel not in lfs_set:\n",
        "                    bad.append((rel, size))\n",
        "\n",
        "    if bad:\n",
        "        print(\"ERROR: Large non-LFS files found:\")\n",
        "        for rel, size in sorted(bad, key=lambda x: x[1], reverse=True):\n",
        "            print(f\" - {rel} ({humanize(size)})\")\n",
        "        sys.exit(1)\n",
        "    else:\n",
        "        print(f\"OK: No large non-LFS files detected (limit {LIMIT_MB} MB).\")\n",
        "\n",
        "if __name__ == \"__main__\":\n",
        "    main()\n",
        "'''\n",
        "\n",
        "# Write the file\n",
        "script.write_text(code)\n",
        "script.chmod(0o755)  # make it executable 0o means base-8. r:4, w: 2, x:1\n",
        "\n",
        "print(f\"Created {script}\")\n"
      ],
      "metadata": {
        "colab": {
          "base_uri": "https://localhost:8080/"
        },
        "id": "MZN3wumsiwiB",
        "outputId": "2d615045-447c-4af3-88e9-0596274a1095"
      },
      "execution_count": null,
      "outputs": [
        {
          "output_type": "stream",
          "name": "stdout",
          "text": [
            "Created tools/guard_large_files.py\n"
          ]
        }
      ]
    },
    {
      "cell_type": "code",
      "source": [
        "# Create/append Makefile target\n",
        "from pathlib import Path\n",
        "text = \"\\n\\nguard:\\n\\tpython tools/guard_large_files.py\\n\" # guard: Makefile target. \\t: tab required.\n",
        "p = Path(\"Makefile\") # point to the Makefile\n",
        "# p.write_text(p.read_text() + text if p.exists() else text) # if p exists, read exising content and append text and overwrites.\n",
        "# the above code will append text everytime, casue error if repeatedly excute.\n",
        "if p.exists():\n",
        "    content = p.read_text()\n",
        "    if \"guard:\" not in content:\n",
        "        p.write_text(content + text)\n",
        "else:\n",
        "    p.write_text(text)\n",
        "\n",
        "print(\"Added 'guard' target to Makefile\")"
      ],
      "metadata": {
        "colab": {
          "base_uri": "https://localhost:8080/"
        },
        "id": "YoZ0DN_Dc03L",
        "outputId": "67e99507-d43e-463d-9a7e-f8c17a56ec91"
      },
      "execution_count": null,
      "outputs": [
        {
          "output_type": "stream",
          "name": "stdout",
          "text": [
            "Added 'guard' target to Makefile\n"
          ]
        }
      ]
    },
    {
      "cell_type": "code",
      "source": [
        "!python tools/guard_large_files.py"
      ],
      "metadata": {
        "colab": {
          "base_uri": "https://localhost:8080/"
        },
        "id": "NU54XnwZgogM",
        "outputId": "4a02bb63-0aed-4673-b9de-982b7c46d13b"
      },
      "execution_count": null,
      "outputs": [
        {
          "output_type": "stream",
          "name": "stdout",
          "text": [
            "OK: No large non-LFS files detected (limit 10 MB).\n"
          ]
        }
      ]
    },
    {
      "cell_type": "code",
      "source": [],
      "metadata": {
        "id": "eTB3_mw-hSru"
      },
      "execution_count": null,
      "outputs": []
    }
  ]
}