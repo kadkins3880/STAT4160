{
 "cells": [
  {
   "cell_type": "code",
   "execution_count": null,
   "id": "dc1e3300",
   "metadata": {},
   "outputs": [],
   "source": []
  },
  {
   "cell_type": "code",
   "execution_count": null,
   "id": "3b0cacda",
   "metadata": {},
   "outputs": [
    {
     "name": "stdout",
     "output_type": "stream",
     "text": [
      "Mounted at /content/drive\n"
     ]
    }
   ],
   "source": [
    "# Colab cell\n",
    "from google.colab import drive\n",
    "\n",
    "drive.mount('/content/drive', force_remount=True)"
   ]
  },
  {
   "cell_type": "code",
   "execution_count": 6,
   "id": "01f28b78",
   "metadata": {},
   "outputs": [],
   "source": [
    "# Adjust these two for YOUR repo\n",
    "REPO_OWNER = \"ywanglab\"\n",
    "REPO_NAME  = \"STAT4160\"   # e.g., unified-stocks-team1\n",
    "BASE_DIR   = \"/content/drive/MyDrive/dspt25\"\n",
    "CLONE_DIR  = f\"{BASE_DIR}/{REPO_NAME}\"\n",
    "REPO_URL   = f\"https://github.com/{REPO_OWNER}/{REPO_NAME}.git\"\n",
    "\n",
    "# if on my office computer\n",
    "\n",
    "REPO_NAME  = \"lectureNotes\"   # e.g., on my office computer\n",
    "BASE_DIR = r\"E:\\OneDrive - Auburn University Montgomery\\teaching\\AUM\\STAT 4160 Productivity Tools\" # on my office computer\n",
    "CLONE_DIR  = f\"{BASE_DIR}\\{REPO_NAME}\"\n",
    "\n",
    "import os, pathlib\n",
    "pathlib.Path(BASE_DIR).mkdir(parents=True, exist_ok=True)\n"
   ]
  },
  {
   "cell_type": "code",
   "execution_count": 7,
   "id": "36277e0a",
   "metadata": {},
   "outputs": [
    {
     "name": "stdout",
     "output_type": "stream",
     "text": [
      "Working dir: E:\\OneDrive - Auburn University Montgomery\\teaching\\AUM\\STAT 4160 Productivity Tools\\lectureNotes\n"
     ]
    }
   ],
   "source": [
    "import os, subprocess, shutil, pathlib\n",
    "\n",
    "if not pathlib.Path(CLONE_DIR).exists():\n",
    "    !git clone {REPO_URL} {CLONE_DIR}\n",
    "else:\n",
    "    # If the folder exists, just ensure it's a git repo and pull latest\n",
    "    os.chdir(CLONE_DIR)\n",
    "    # !git status\n",
    "    # !git pull --rebase # !git pull --ff-only\n",
    "os.chdir(CLONE_DIR)\n",
    "print(\"Working dir:\", os.getcwd())"
   ]
  },
  {
   "cell_type": "code",
   "execution_count": null,
   "id": "8c81524b",
   "metadata": {},
   "outputs": [],
   "source": []
  }
 ],
 "metadata": {
  "kernelspec": {
   "display_name": "stat1010",
   "language": "python",
   "name": "python3"
  },
  "language_info": {
   "codemirror_mode": {
    "name": "ipython",
    "version": 3
   },
   "file_extension": ".py",
   "mimetype": "text/x-python",
   "name": "python",
   "nbconvert_exporter": "python",
   "pygments_lexer": "ipython3",
   "version": "3.11.5"
  }
 },
 "nbformat": 4,
 "nbformat_minor": 5
}
